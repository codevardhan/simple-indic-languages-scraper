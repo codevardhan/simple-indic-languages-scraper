{
 "cells": [
  {
   "cell_type": "code",
   "execution_count": null,
   "metadata": {},
   "outputs": [],
   "source": [
    "import os\n",
    "from nltk.corpus import PlaintextCorpusReader\n",
    "from tqdm import tqdm\n",
    "import pandas as pd\n",
    "import regex as re\n",
    "from string import punctuation\n",
    "\n",
    "from inltk.inltk import tokenize\n",
    "from inltk.inltk import get_embedding_vectors\n",
    "from inltk.inltk import tokenize\n",
    "\n",
    "from gensim.models import FastText\n"
   ]
  },
  {
   "cell_type": "code",
   "execution_count": null,
   "metadata": {},
   "outputs": [],
   "source": [
    "directory = 'Data/telegu_dataset'\n",
    "\n",
    "dataset_list=[]\n",
    "\n",
    "for filename in tqdm(os.listdir(directory)):\n",
    "    f=open(directory+'/'+filename, \"r\").read()\n",
    "    dataset_list.append(f)\n",
    "\n",
    "data_dict={\"raw_data\":dataset_list}\n",
    "df = pd.DataFrame(data_dict)"
   ]
  },
  {
   "cell_type": "code",
   "execution_count": null,
   "metadata": {},
   "outputs": [],
   "source": [
    "df.head()"
   ]
  },
  {
   "cell_type": "code",
   "execution_count": null,
   "metadata": {},
   "outputs": [],
   "source": [
    "common_eng_words=[\"january\", \"february\", \"march\", \"april\", \"may\", \"june\", \"july\", \"august\", \"september\", \"october\", \"november\", \"december\", \"pm\", \"am\", \"ist\"]\n",
    "\n",
    "def preprocess_text(text):\n",
    "    text = text.lower()\n",
    "    text = re.sub(r\"https?://\\S+\", \"\", text)\n",
    "    text = re.sub(r\"<.*?>\", \" \", text)\n",
    "    text = re.sub(r\"\\d.*?utf8\", \" \", text)\n",
    "    text = \" \".join([w for w in text.split() if not w.isdigit()])\n",
    "    text = re.sub(f\"[{re.escape(punctuation)}]\", \"\", text)\n",
    "    text = \" \".join(text.split())\n",
    "    return text\n",
    "\n",
    "df[\"cleaned_data\"]=df[\"raw_data\"].apply(lambda x: preprocess_text(x))\n",
    "df['cleaned_data'] = df.apply(lambda row: [word for word in row['cleaned_data'].split(' ') if \"day\" not in word], axis=1)\n",
    "df['cleaned_data'] = df.apply(lambda row: [word for word in row['cleaned_data'] if not word.isdigit()], axis=1)\n",
    "df['cleaned_data_no_english'] = df.apply(lambda row: ' '.join([word for word in row['cleaned_data'] if word not in common_eng_words]), axis=1)\n"
   ]
  },
  {
   "cell_type": "code",
   "execution_count": null,
   "metadata": {},
   "outputs": [],
   "source": [
    "df.head()"
   ]
  },
  {
   "cell_type": "code",
   "execution_count": null,
   "metadata": {},
   "outputs": [],
   "source": [
    "df['cleaned_data_no_english'].to_csv('processed_data/tel_pro.csv', index=False)"
   ]
  },
  {
   "cell_type": "code",
   "execution_count": null,
   "metadata": {},
   "outputs": [],
   "source": [
    "df=pd.read_csv('processed_data/mal_pro.csv')\n",
    "df.head()"
   ]
  },
  {
   "cell_type": "code",
   "execution_count": null,
   "metadata": {},
   "outputs": [],
   "source": [
    "import csv\n",
    "\n",
    "df.to_csv(r'Data/mal_out.txt', header=None, index=None, sep=' ', mode='a')"
   ]
  },
  {
   "cell_type": "code",
   "execution_count": null,
   "metadata": {},
   "outputs": [],
   "source": [
    "with open(\"Data/tel_out.txt\", \"w\") as text_file:\n",
    "    text_file.write(data)\n"
   ]
  }
 ],
 "metadata": {
  "interpreter": {
   "hash": "d1293c5b6cac6c226aff9eec205846c48f80b4b6ec8e984ca176085abecc0c65"
  },
  "kernelspec": {
   "display_name": "Python 3.9.5 64-bit",
   "language": "python",
   "name": "python3"
  },
  "language_info": {
   "codemirror_mode": {
    "name": "ipython",
    "version": 3
   },
   "file_extension": ".py",
   "mimetype": "text/x-python",
   "name": "python",
   "nbconvert_exporter": "python",
   "pygments_lexer": "ipython3",
   "version": "3.9.5"
  },
  "orig_nbformat": 4
 },
 "nbformat": 4,
 "nbformat_minor": 2
}
