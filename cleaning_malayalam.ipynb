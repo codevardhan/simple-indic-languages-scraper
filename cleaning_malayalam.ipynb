{
 "cells": [
  {
   "cell_type": "code",
   "execution_count": 2,
   "metadata": {},
   "outputs": [],
   "source": [
    "import os\n",
    "from nltk.corpus import PlaintextCorpusReader\n",
    "from tqdm import tqdm\n",
    "import pandas as pd\n",
    "import regex as re\n",
    "from string import punctuation\n",
    "\n",
    "from inltk.inltk import tokenize\n",
    "from inltk.inltk import get_embedding_vectors\n",
    "from inltk.inltk import tokenize\n",
    "\n",
    "from gensim.models import FastText\n",
    "import csv\n"
   ]
  },
  {
   "cell_type": "code",
   "execution_count": null,
   "metadata": {},
   "outputs": [
    {
     "name": "stderr",
     "output_type": "stream",
     "text": [
      "100%|██████████| 187033/187033 [00:47<00:00, 3900.70it/s]\n"
     ]
    }
   ],
   "source": [
    "directory = 'Data/malayalam_dataset'\n",
    "\n",
    "dataset_list=[]\n",
    "\n",
    "for filename in tqdm(os.listdir(directory)):\n",
    "    f=open(directory+'/'+filename, \"r\").read()\n",
    "    dataset_list.append(f)\n",
    "\n",
    "data_dict={\"raw_data\":dataset_list}\n",
    "df = pd.DataFrame(data_dict)"
   ]
  },
  {
   "cell_type": "code",
   "execution_count": 4,
   "metadata": {},
   "outputs": [
    {
     "data": {
      "text/html": [
       "<div>\n",
       "<style scoped>\n",
       "    .dataframe tbody tr th:only-of-type {\n",
       "        vertical-align: middle;\n",
       "    }\n",
       "\n",
       "    .dataframe tbody tr th {\n",
       "        vertical-align: top;\n",
       "    }\n",
       "\n",
       "    .dataframe thead th {\n",
       "        text-align: right;\n",
       "    }\n",
       "</style>\n",
       "<table border=\"1\" class=\"dataframe\">\n",
       "  <thead>\n",
       "    <tr style=\"text-align: right;\">\n",
       "      <th></th>\n",
       "      <th>raw_data</th>\n",
       "    </tr>\n",
       "  </thead>\n",
       "  <tbody>\n",
       "    <tr>\n",
       "      <th>0</th>\n",
       "      <td>&lt;DOC&gt;\\n&lt;DOCNO&gt;115101132421.utf8&lt;/DOCNO&gt;\\n&lt;TEXT...</td>\n",
       "    </tr>\n",
       "    <tr>\n",
       "      <th>1</th>\n",
       "      <td>&lt;DOC&gt;\\n&lt;DOCNO&gt;115062696126.utf8&lt;/DOCNO&gt;\\n&lt;TEXT...</td>\n",
       "    </tr>\n",
       "    <tr>\n",
       "      <th>2</th>\n",
       "      <td>&lt;DOC&gt;\\n&lt;DOCNO&gt;115020765535.utf8&lt;/DOCNO&gt;\\n&lt;TEXT...</td>\n",
       "    </tr>\n",
       "    <tr>\n",
       "      <th>3</th>\n",
       "      <td>&lt;DOC&gt;\\n&lt;DOCNO&gt;117071871684.utf8&lt;/DOCNO&gt;\\n&lt;TEXT...</td>\n",
       "    </tr>\n",
       "    <tr>\n",
       "      <th>4</th>\n",
       "      <td>&lt;DOC&gt;\\n&lt;DOCNO&gt;116092281566.utf8&lt;/DOCNO&gt;\\n&lt;TEXT...</td>\n",
       "    </tr>\n",
       "  </tbody>\n",
       "</table>\n",
       "</div>"
      ],
      "text/plain": [
       "                                            raw_data\n",
       "0  <DOC>\\n<DOCNO>115101132421.utf8</DOCNO>\\n<TEXT...\n",
       "1  <DOC>\\n<DOCNO>115062696126.utf8</DOCNO>\\n<TEXT...\n",
       "2  <DOC>\\n<DOCNO>115020765535.utf8</DOCNO>\\n<TEXT...\n",
       "3  <DOC>\\n<DOCNO>117071871684.utf8</DOCNO>\\n<TEXT...\n",
       "4  <DOC>\\n<DOCNO>116092281566.utf8</DOCNO>\\n<TEXT..."
      ]
     },
     "execution_count": 4,
     "metadata": {},
     "output_type": "execute_result"
    }
   ],
   "source": [
    "df.head()"
   ]
  },
  {
   "cell_type": "code",
   "execution_count": 2,
   "metadata": {},
   "outputs": [
    {
     "ename": "NameError",
     "evalue": "name 'df' is not defined",
     "output_type": "error",
     "traceback": [
      "\u001b[0;31m---------------------------------------------------------------------------\u001b[0m",
      "\u001b[0;31mNameError\u001b[0m                                 Traceback (most recent call last)",
      "\u001b[1;32m/home/codevardhan/uni/S6/NLP/Project/cleaning_malayalam.ipynb Cell 4'\u001b[0m in \u001b[0;36m<module>\u001b[0;34m\u001b[0m\n\u001b[1;32m     <a href='vscode-notebook-cell:/home/codevardhan/uni/S6/NLP/Project/cleaning_malayalam.ipynb#ch0000003?line=9'>10</a>\u001b[0m     text \u001b[39m=\u001b[39m \u001b[39m\"\u001b[39m\u001b[39m \u001b[39m\u001b[39m\"\u001b[39m\u001b[39m.\u001b[39mjoin(text\u001b[39m.\u001b[39msplit())\n\u001b[1;32m     <a href='vscode-notebook-cell:/home/codevardhan/uni/S6/NLP/Project/cleaning_malayalam.ipynb#ch0000003?line=10'>11</a>\u001b[0m     \u001b[39mreturn\u001b[39;00m text\n\u001b[0;32m---> <a href='vscode-notebook-cell:/home/codevardhan/uni/S6/NLP/Project/cleaning_malayalam.ipynb#ch0000003?line=12'>13</a>\u001b[0m df[\u001b[39m\"\u001b[39m\u001b[39mcleaned_data\u001b[39m\u001b[39m\"\u001b[39m]\u001b[39m=\u001b[39mdf[\u001b[39m\"\u001b[39m\u001b[39mraw_data\u001b[39m\u001b[39m\"\u001b[39m]\u001b[39m.\u001b[39mapply(\u001b[39mlambda\u001b[39;00m x: preprocess_text(x))\n\u001b[1;32m     <a href='vscode-notebook-cell:/home/codevardhan/uni/S6/NLP/Project/cleaning_malayalam.ipynb#ch0000003?line=13'>14</a>\u001b[0m df[\u001b[39m'\u001b[39m\u001b[39mcleaned_data\u001b[39m\u001b[39m'\u001b[39m] \u001b[39m=\u001b[39m df\u001b[39m.\u001b[39mapply(\u001b[39mlambda\u001b[39;00m row: [word \u001b[39mfor\u001b[39;00m word \u001b[39min\u001b[39;00m row[\u001b[39m'\u001b[39m\u001b[39mcleaned_data\u001b[39m\u001b[39m'\u001b[39m]\u001b[39m.\u001b[39msplit(\u001b[39m'\u001b[39m\u001b[39m \u001b[39m\u001b[39m'\u001b[39m) \u001b[39mif\u001b[39;00m \u001b[39m\"\u001b[39m\u001b[39mday\u001b[39m\u001b[39m\"\u001b[39m \u001b[39mnot\u001b[39;00m \u001b[39min\u001b[39;00m word], axis\u001b[39m=\u001b[39m\u001b[39m1\u001b[39m)\n\u001b[1;32m     <a href='vscode-notebook-cell:/home/codevardhan/uni/S6/NLP/Project/cleaning_malayalam.ipynb#ch0000003?line=14'>15</a>\u001b[0m df[\u001b[39m'\u001b[39m\u001b[39mcleaned_data\u001b[39m\u001b[39m'\u001b[39m] \u001b[39m=\u001b[39m df\u001b[39m.\u001b[39mapply(\u001b[39mlambda\u001b[39;00m row: [word \u001b[39mfor\u001b[39;00m word \u001b[39min\u001b[39;00m row[\u001b[39m'\u001b[39m\u001b[39mcleaned_data\u001b[39m\u001b[39m'\u001b[39m] \u001b[39mif\u001b[39;00m \u001b[39mnot\u001b[39;00m word\u001b[39m.\u001b[39misdigit()], axis\u001b[39m=\u001b[39m\u001b[39m1\u001b[39m)\n",
      "\u001b[0;31mNameError\u001b[0m: name 'df' is not defined"
     ]
    }
   ],
   "source": [
    "common_eng_words=[\"january\", \"february\", \"march\", \"april\", \"may\", \"june\", \"july\", \"august\", \"september\", \"october\", \"november\", \"december\", \"pm\", \"am\", \"ist\"]\n",
    "\n",
    "def preprocess_text(text):\n",
    "    text = text.lower()\n",
    "    text = re.sub(r\"https?://\\S+\", \"\", text)\n",
    "    text = re.sub(r\"<.*?>\", \" \", text)\n",
    "    text = re.sub(r\"\\d.*?utf8\", \" \", text)\n",
    "    text = \" \".join([w for w in text.split() if not w.isdigit()])\n",
    "    text = re.sub(f\"[{re.escape(punctuation)}]\", \"\", text)\n",
    "    text = \" \".join(text.split())\n",
    "    return text\n",
    "\n",
    "df[\"cleaned_data\"]=df[\"raw_data\"].apply(lambda x: preprocess_text(x))\n",
    "df['cleaned_data'] = df.apply(lambda row: [word for word in row['cleaned_data'].split(' ') if \"day\" not in word], axis=1)\n",
    "df['cleaned_data'] = df.apply(lambda row: [word for word in row['cleaned_data'] if not word.isdigit()], axis=1)\n",
    "df['cleaned_data_no_english'] = df.apply(lambda row: ' '.join([word for word in row['cleaned_data'] if word not in common_eng_words]), axis=1)\n"
   ]
  },
  {
   "cell_type": "code",
   "execution_count": 6,
   "metadata": {},
   "outputs": [
    {
     "data": {
      "text/html": [
       "<div>\n",
       "<style scoped>\n",
       "    .dataframe tbody tr th:only-of-type {\n",
       "        vertical-align: middle;\n",
       "    }\n",
       "\n",
       "    .dataframe tbody tr th {\n",
       "        vertical-align: top;\n",
       "    }\n",
       "\n",
       "    .dataframe thead th {\n",
       "        text-align: right;\n",
       "    }\n",
       "</style>\n",
       "<table border=\"1\" class=\"dataframe\">\n",
       "  <thead>\n",
       "    <tr style=\"text-align: right;\">\n",
       "      <th></th>\n",
       "      <th>raw_data</th>\n",
       "      <th>cleaned_data</th>\n",
       "      <th>cleaned_data_no_english</th>\n",
       "    </tr>\n",
       "  </thead>\n",
       "  <tbody>\n",
       "    <tr>\n",
       "      <th>0</th>\n",
       "      <td>&lt;DOC&gt;\\n&lt;DOCNO&gt;115101132421.utf8&lt;/DOCNO&gt;\\n&lt;TEXT...</td>\n",
       "      <td>[പഴനി, october, pm, ist, പരമശിവനും, പാര്‍വതിയു...</td>\n",
       "      <td>പഴനി പരമശിവനും പാര്‍വതിയും ഗണപതിയും സുബ്രഹ്മണ്...</td>\n",
       "    </tr>\n",
       "    <tr>\n",
       "      <th>1</th>\n",
       "      <td>&lt;DOC&gt;\\n&lt;DOCNO&gt;115062696126.utf8&lt;/DOCNO&gt;\\n&lt;TEXT...</td>\n",
       "      <td>[അത്, സ്വാതന്ത്യ, സമരമായിരുന്നു, june, am, ist...</td>\n",
       "      <td>അത് സ്വാതന്ത്യ സമരമായിരുന്നു ബ്രിട്ടീഷ്‌രാജിന്...</td>\n",
       "    </tr>\n",
       "    <tr>\n",
       "      <th>2</th>\n",
       "      <td>&lt;DOC&gt;\\n&lt;DOCNO&gt;115020765535.utf8&lt;/DOCNO&gt;\\n&lt;TEXT...</td>\n",
       "      <td>[എഎപിക്കാരുടെ, പരാതി, പ്രളയം, മുന്‍കൂര്‍, ജാമ്...</td>\n",
       "      <td>എഎപിക്കാരുടെ പരാതി പ്രളയം മുന്‍കൂര്‍ ജാമ്യമെന്...</td>\n",
       "    </tr>\n",
       "    <tr>\n",
       "      <th>3</th>\n",
       "      <td>&lt;DOC&gt;\\n&lt;DOCNO&gt;117071871684.utf8&lt;/DOCNO&gt;\\n&lt;TEXT...</td>\n",
       "      <td>[ഹിറ്റ്‌ലറുടെ, മെയ്ന്‍, കാംഫ്, പ്രസിദ്ധീകരിച്ച...</td>\n",
       "      <td>ഹിറ്റ്‌ലറുടെ മെയ്ന്‍ കാംഫ് പ്രസിദ്ധീകരിച്ചത് ഇ...</td>\n",
       "    </tr>\n",
       "    <tr>\n",
       "      <th>4</th>\n",
       "      <td>&lt;DOC&gt;\\n&lt;DOCNO&gt;116092281566.utf8&lt;/DOCNO&gt;\\n&lt;TEXT...</td>\n",
       "      <td>[ലോക, ടൂറിസം, ദിനാഘോഷം, ന്, september, pm, ist...</td>\n",
       "      <td>ലോക ടൂറിസം ദിനാഘോഷം ന് കണ്ണൂര്‍ കണ്ണൂര്‍ ജില്ല...</td>\n",
       "    </tr>\n",
       "  </tbody>\n",
       "</table>\n",
       "</div>"
      ],
      "text/plain": [
       "                                            raw_data  \\\n",
       "0  <DOC>\\n<DOCNO>115101132421.utf8</DOCNO>\\n<TEXT...   \n",
       "1  <DOC>\\n<DOCNO>115062696126.utf8</DOCNO>\\n<TEXT...   \n",
       "2  <DOC>\\n<DOCNO>115020765535.utf8</DOCNO>\\n<TEXT...   \n",
       "3  <DOC>\\n<DOCNO>117071871684.utf8</DOCNO>\\n<TEXT...   \n",
       "4  <DOC>\\n<DOCNO>116092281566.utf8</DOCNO>\\n<TEXT...   \n",
       "\n",
       "                                        cleaned_data  \\\n",
       "0  [പഴനി, october, pm, ist, പരമശിവനും, പാര്‍വതിയു...   \n",
       "1  [അത്, സ്വാതന്ത്യ, സമരമായിരുന്നു, june, am, ist...   \n",
       "2  [എഎപിക്കാരുടെ, പരാതി, പ്രളയം, മുന്‍കൂര്‍, ജാമ്...   \n",
       "3  [ഹിറ്റ്‌ലറുടെ, മെയ്ന്‍, കാംഫ്, പ്രസിദ്ധീകരിച്ച...   \n",
       "4  [ലോക, ടൂറിസം, ദിനാഘോഷം, ന്, september, pm, ist...   \n",
       "\n",
       "                             cleaned_data_no_english  \n",
       "0  പഴനി പരമശിവനും പാര്‍വതിയും ഗണപതിയും സുബ്രഹ്മണ്...  \n",
       "1  അത് സ്വാതന്ത്യ സമരമായിരുന്നു ബ്രിട്ടീഷ്‌രാജിന്...  \n",
       "2  എഎപിക്കാരുടെ പരാതി പ്രളയം മുന്‍കൂര്‍ ജാമ്യമെന്...  \n",
       "3  ഹിറ്റ്‌ലറുടെ മെയ്ന്‍ കാംഫ് പ്രസിദ്ധീകരിച്ചത് ഇ...  \n",
       "4  ലോക ടൂറിസം ദിനാഘോഷം ന് കണ്ണൂര്‍ കണ്ണൂര്‍ ജില്ല...  "
      ]
     },
     "execution_count": 6,
     "metadata": {},
     "output_type": "execute_result"
    }
   ],
   "source": [
    "df.head()"
   ]
  },
  {
   "cell_type": "code",
   "execution_count": 3,
   "metadata": {},
   "outputs": [
    {
     "ename": "NameError",
     "evalue": "name 'df' is not defined",
     "output_type": "error",
     "traceback": [
      "\u001b[0;31m---------------------------------------------------------------------------\u001b[0m",
      "\u001b[0;31mNameError\u001b[0m                                 Traceback (most recent call last)",
      "\u001b[1;32m/home/codevardhan/uni/S6/NLP/Project/cleaning_malayalam.ipynb Cell 6'\u001b[0m in \u001b[0;36m<module>\u001b[0;34m\u001b[0m\n\u001b[0;32m----> <a href='vscode-notebook-cell:/home/codevardhan/uni/S6/NLP/Project/cleaning_malayalam.ipynb#ch0000005?line=0'>1</a>\u001b[0m df[\u001b[39m'\u001b[39m\u001b[39mcleaned_data_no_english\u001b[39m\u001b[39m'\u001b[39m]\u001b[39m.\u001b[39mto_csv(\u001b[39m'\u001b[39m\u001b[39mprocessed_data/mal_pro.csv\u001b[39m\u001b[39m'\u001b[39m, index\u001b[39m=\u001b[39m\u001b[39mFalse\u001b[39;00m)\n",
      "\u001b[0;31mNameError\u001b[0m: name 'df' is not defined"
     ]
    }
   ],
   "source": [
    "df['cleaned_data_no_english'].to_csv('processed_data/mal_pro.csv', index=False)"
   ]
  },
  {
   "cell_type": "code",
   "execution_count": 4,
   "metadata": {},
   "outputs": [
    {
     "data": {
      "text/html": [
       "<div>\n",
       "<style scoped>\n",
       "    .dataframe tbody tr th:only-of-type {\n",
       "        vertical-align: middle;\n",
       "    }\n",
       "\n",
       "    .dataframe tbody tr th {\n",
       "        vertical-align: top;\n",
       "    }\n",
       "\n",
       "    .dataframe thead th {\n",
       "        text-align: right;\n",
       "    }\n",
       "</style>\n",
       "<table border=\"1\" class=\"dataframe\">\n",
       "  <thead>\n",
       "    <tr style=\"text-align: right;\">\n",
       "      <th></th>\n",
       "      <th>cleaned_data_no_english</th>\n",
       "    </tr>\n",
       "  </thead>\n",
       "  <tbody>\n",
       "    <tr>\n",
       "      <th>0</th>\n",
       "      <td>പഴനി പരമശിവനും പാര്‍വതിയും ഗണപതിയും സുബ്രഹ്മണ്...</td>\n",
       "    </tr>\n",
       "    <tr>\n",
       "      <th>1</th>\n",
       "      <td>അത് സ്വാതന്ത്യ സമരമായിരുന്നു ബ്രിട്ടീഷ്‌രാജിന്...</td>\n",
       "    </tr>\n",
       "    <tr>\n",
       "      <th>2</th>\n",
       "      <td>എഎപിക്കാരുടെ പരാതി പ്രളയം മുന്‍കൂര്‍ ജാമ്യമെന്...</td>\n",
       "    </tr>\n",
       "    <tr>\n",
       "      <th>3</th>\n",
       "      <td>ഹിറ്റ്‌ലറുടെ മെയ്ന്‍ കാംഫ് പ്രസിദ്ധീകരിച്ചത് ഇ...</td>\n",
       "    </tr>\n",
       "    <tr>\n",
       "      <th>4</th>\n",
       "      <td>ലോക ടൂറിസം ദിനാഘോഷം ന് കണ്ണൂര്‍ കണ്ണൂര്‍ ജില്ല...</td>\n",
       "    </tr>\n",
       "  </tbody>\n",
       "</table>\n",
       "</div>"
      ],
      "text/plain": [
       "                             cleaned_data_no_english\n",
       "0  പഴനി പരമശിവനും പാര്‍വതിയും ഗണപതിയും സുബ്രഹ്മണ്...\n",
       "1  അത് സ്വാതന്ത്യ സമരമായിരുന്നു ബ്രിട്ടീഷ്‌രാജിന്...\n",
       "2  എഎപിക്കാരുടെ പരാതി പ്രളയം മുന്‍കൂര്‍ ജാമ്യമെന്...\n",
       "3  ഹിറ്റ്‌ലറുടെ മെയ്ന്‍ കാംഫ് പ്രസിദ്ധീകരിച്ചത് ഇ...\n",
       "4  ലോക ടൂറിസം ദിനാഘോഷം ന് കണ്ണൂര്‍ കണ്ണൂര്‍ ജില്ല..."
      ]
     },
     "execution_count": 4,
     "metadata": {},
     "output_type": "execute_result"
    }
   ],
   "source": [
    "df=pd.read_csv('processed_data/mal_pro.csv')\n",
    "df.head()"
   ]
  },
  {
   "cell_type": "code",
   "execution_count": 5,
   "metadata": {},
   "outputs": [],
   "source": [
    "df.to_csv(r'Data/mal_out.txt', header=None, index=None, sep=' ', mode='a')"
   ]
  },
  {
   "cell_type": "code",
   "execution_count": 7,
   "metadata": {},
   "outputs": [],
   "source": [
    "with open(\"Data/mal_out.txt\", \"w\") as text_file:\n",
    "    text_file.write(data)\n"
   ]
  }
 ],
 "metadata": {
  "interpreter": {
   "hash": "d1293c5b6cac6c226aff9eec205846c48f80b4b6ec8e984ca176085abecc0c65"
  },
  "kernelspec": {
   "display_name": "Python 3.9.5 64-bit",
   "language": "python",
   "name": "python3"
  },
  "language_info": {
   "codemirror_mode": {
    "name": "ipython",
    "version": 3
   },
   "file_extension": ".py",
   "mimetype": "text/x-python",
   "name": "python",
   "nbconvert_exporter": "python",
   "pygments_lexer": "ipython3",
   "version": "3.9.5"
  },
  "orig_nbformat": 4
 },
 "nbformat": 4,
 "nbformat_minor": 2
}
